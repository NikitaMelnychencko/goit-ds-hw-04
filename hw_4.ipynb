{
  "nbformat": 4,
  "nbformat_minor": 0,
  "metadata": {
    "colab": {
      "provenance": [],
      "authorship_tag": "ABX9TyPOLZKTtWeYjj2KIMkJCTVi",
      "include_colab_link": true
    },
    "kernelspec": {
      "name": "python3",
      "display_name": "Python 3"
    },
    "language_info": {
      "name": "python"
    }
  },
  "cells": [
    {
      "cell_type": "markdown",
      "metadata": {
        "id": "view-in-github",
        "colab_type": "text"
      },
      "source": [
        "<a href=\"https://colab.research.google.com/github/NikitaMelnychencko/goit-ds-hw-04/blob/main/hw_4.ipynb\" target=\"_parent\"><img src=\"https://colab.research.google.com/assets/colab-badge.svg\" alt=\"Open In Colab\"/></a>"
      ]
    },
    {
      "cell_type": "code",
      "execution_count": 9,
      "metadata": {
        "colab": {
          "base_uri": "https://localhost:8080/"
        },
        "id": "l4aVGMEMMNjy",
        "outputId": "049ee6a9-436b-457a-de19-72579d4cd028"
      },
      "outputs": [
        {
          "output_type": "stream",
          "name": "stdout",
          "text": [
            "[ 1.  2.  3.  4.  5.  6.  7.  8.  9. 10.]\n",
            "[[1 2 3]\n",
            " [4 5 6]\n",
            " [4 5 6]]\n"
          ]
        }
      ],
      "source": [
        "import numpy as np\n",
        "import random\n",
        "\n",
        "a = np.array([1, 2, 3, 4, 5, 6, 7, 8, 9, 10], dtype=float)\n",
        "print(a)\n",
        "\n",
        "m = np.array([[1, 2, 3], [4, 5, 6], [4, 5, 6]], dtype=int)\n",
        "print(m)"
      ]
    },
    {
      "cell_type": "markdown",
      "source": [
        "Створіть масив розміром 5x5, заповніть його випадковими цілими числами в діапазоні від 1 до 10 та виведіть його значення.\n",
        "\n",
        "\n",
        "\n",
        "\n"
      ],
      "metadata": {
        "id": "NQ5A84vqRtPj"
      }
    },
    {
      "cell_type": "code",
      "source": [
        "b = np.random.randint(1, 11, size=(5, 5))\n",
        "m = np.array(b, dtype=int)\n",
        "print(m)"
      ],
      "metadata": {
        "colab": {
          "base_uri": "https://localhost:8080/"
        },
        "id": "YT2Oz7b2PPs3",
        "outputId": "5ba66931-0d6a-48c4-9234-550af09c4907"
      },
      "execution_count": 16,
      "outputs": [
        {
          "output_type": "stream",
          "name": "stdout",
          "text": [
            "[[ 7  1  9  5  9]\n",
            " [ 7  5  9  7  6]\n",
            " [10  7  1  4  6]\n",
            " [ 8  7  1  8  6]\n",
            " [ 4  4  4  3  8]]\n"
          ]
        }
      ]
    },
    {
      "cell_type": "markdown",
      "source": [
        "Створіть масив розміром 4x4, заповніть його випадковими дійсними числами в діапазоні від 0 до 1 та виведіть його значення."
      ],
      "metadata": {
        "id": "UrzI0FTiYcar"
      }
    },
    {
      "cell_type": "code",
      "source": [
        "a = np.eye(4, k=-1, dtype=int)\n",
        "print(a)"
      ],
      "metadata": {
        "colab": {
          "base_uri": "https://localhost:8080/"
        },
        "id": "o1xfE72mYdHS",
        "outputId": "73267bef-2073-4072-dbc5-1b35e5784bdc"
      },
      "execution_count": 46,
      "outputs": [
        {
          "output_type": "stream",
          "name": "stdout",
          "text": [
            "[[0 0 0 0]\n",
            " [1 0 0 0]\n",
            " [0 1 0 0]\n",
            " [0 0 1 0]]\n"
          ]
        }
      ]
    },
    {
      "cell_type": "markdown",
      "source": [
        "Створіть два одновимірних масиви розміром 5, заповніть їх випадковими цілими числами в діапазоні від 1 до 10 та виконайте на них поелементні операції додавання, віднімання та множення.\n"
      ],
      "metadata": {
        "id": "xBglgDUtYngZ"
      }
    },
    {
      "cell_type": "code",
      "source": [
        "a = np.array(np.random.randint(11, size=5), dtype=int)\n",
        "b = np.array(np.random.randint(11, size=5), dtype=int)\n",
        "print(a + b)\n",
        "print(a - b)\n",
        "print(a * b)"
      ],
      "metadata": {
        "colab": {
          "base_uri": "https://localhost:8080/"
        },
        "id": "J37TAotlYjcc",
        "outputId": "b3def48e-e6b3-442b-c90c-7ec0a2f3122c"
      },
      "execution_count": 27,
      "outputs": [
        {
          "output_type": "stream",
          "name": "stdout",
          "text": [
            "[ 6 11 16  2 10]\n",
            "[  6   1  -4   2 -10]\n",
            "[ 0 30 60  0  0]\n"
          ]
        }
      ]
    },
    {
      "cell_type": "markdown",
      "source": [
        "Створіть два вектори розміром 7, заповніть довільними числами та знайдіть їх скалярний добуток."
      ],
      "metadata": {
        "id": "wn_svGhuaYMw"
      }
    },
    {
      "cell_type": "code",
      "source": [
        "a = np.array(np.random.randint(11, size=7), dtype=int)\n",
        "b = np.array(np.random.randint(11, size=7), dtype=int)\n",
        "print(np.dot(a, b))"
      ],
      "metadata": {
        "colab": {
          "base_uri": "https://localhost:8080/"
        },
        "id": "G3k11D_sadGs",
        "outputId": "46faa93f-5819-4b49-837b-e86b1685aa08"
      },
      "execution_count": 28,
      "outputs": [
        {
          "output_type": "stream",
          "name": "stdout",
          "text": [
            "212\n"
          ]
        }
      ]
    },
    {
      "cell_type": "markdown",
      "source": [
        "Створіть дві матриці розміром 2x2 та 2x3, заповніть їх випадковими цілими числами в діапазоні від 1 до 10 та перемножте їх між собою."
      ],
      "metadata": {
        "id": "eZ7ikJeKaqtu"
      }
    },
    {
      "cell_type": "code",
      "source": [
        "m = np.array(np.random.randint(1, 11, size=(2, 2)), dtype=int)\n",
        "x = np.array(np.random.randint(1, 11, size=(2, 3)), dtype=int)\n",
        "print(np.dot(m, x))"
      ],
      "metadata": {
        "colab": {
          "base_uri": "https://localhost:8080/"
        },
        "id": "Tr2ZAHtyac6I",
        "outputId": "32ca6e12-1464-48fe-d23d-1433f3931a10"
      },
      "execution_count": 39,
      "outputs": [
        {
          "output_type": "stream",
          "name": "stdout",
          "text": [
            "[[41 36 31]\n",
            " [49 48 35]]\n"
          ]
        }
      ]
    },
    {
      "cell_type": "markdown",
      "source": [
        "Створіть матрицю розміром 3x3, заповніть її випадковими цілими числами в діапазоні від 1 до 10 та знайдіть її обернену матрицю."
      ],
      "metadata": {
        "id": "g1a63sq9dKU1"
      }
    },
    {
      "cell_type": "code",
      "source": [
        "a = np.array(np.random.randint(1, 11, size=(3, 3)), dtype=int)\n",
        "a_inv = np.linalg.inv(a)\n",
        "print(\"a\", a)\n",
        "print(\"a_inv\", a_inv)"
      ],
      "metadata": {
        "colab": {
          "base_uri": "https://localhost:8080/"
        },
        "id": "YB1HukLJdLD3",
        "outputId": "3ce50372-0591-4684-8299-77d2cc58e3bc"
      },
      "execution_count": 43,
      "outputs": [
        {
          "output_type": "stream",
          "name": "stdout",
          "text": [
            "a [[4 2 4]\n",
            " [7 6 7]\n",
            " [3 4 5]]\n",
            "a_inv [[ 0.1  0.3 -0.5]\n",
            " [-0.7  0.4  0. ]\n",
            " [ 0.5 -0.5  0.5]]\n"
          ]
        }
      ]
    },
    {
      "cell_type": "markdown",
      "source": [
        "Створіть матрицю розміром 4x4, заповніть її випадковими дійсними числами в діапазоні від 0 до 1 та транспонуйте її."
      ],
      "metadata": {
        "id": "EZ8TfcjCdwdv"
      }
    },
    {
      "cell_type": "code",
      "source": [
        "a = np.eye(4, k=-1, dtype=int)\n",
        "print(\"a\", a)\n",
        "b = a.T\n",
        "print(\"b\", b)"
      ],
      "metadata": {
        "colab": {
          "base_uri": "https://localhost:8080/"
        },
        "id": "BcRmjCMVdjMF",
        "outputId": "2ffac737-c087-47aa-a941-6441be24349b"
      },
      "execution_count": 54,
      "outputs": [
        {
          "output_type": "stream",
          "name": "stdout",
          "text": [
            "a [[0 0 0 0]\n",
            " [1 0 0 0]\n",
            " [0 1 0 0]\n",
            " [0 0 1 0]]\n",
            "b [[0 1 0 0]\n",
            " [0 0 1 0]\n",
            " [0 0 0 1]\n",
            " [0 0 0 0]]\n"
          ]
        }
      ]
    },
    {
      "cell_type": "markdown",
      "source": [
        "Створіть матрицю розміром 3x4 та вектор розміром 4, заповніть їх випадковими цілими числами в діапазоні від 1 до 10 та перемножте матрицю на вектор."
      ],
      "metadata": {
        "id": "as9zzq3nep0A"
      }
    },
    {
      "cell_type": "code",
      "source": [
        "a = np.array(np.random.randint(1, 11, size=(3, 4)), dtype=int)\n",
        "b = np.array(np.random.randint(11, size=4), dtype=int)\n",
        "print(a * b)"
      ],
      "metadata": {
        "colab": {
          "base_uri": "https://localhost:8080/"
        },
        "id": "WAstj9yAedeX",
        "outputId": "991c3245-0762-4428-88af-3a2cd850ae0a"
      },
      "execution_count": 56,
      "outputs": [
        {
          "output_type": "stream",
          "name": "stdout",
          "text": [
            "[[ 8 80 48 15]\n",
            " [ 6 40 60 30]\n",
            " [14 40 42 15]]\n"
          ]
        }
      ]
    },
    {
      "cell_type": "markdown",
      "source": [
        "Створіть матрицю розміром 2x3 та вектор розміром 3, заповніть їх випадковими дійсними числами в діапазоні від 0 до 1 та перемножте матрицю на вектор."
      ],
      "metadata": {
        "id": "xS8El0YFh7b5"
      }
    },
    {
      "cell_type": "code",
      "source": [
        "a = np.random.random((2, 3))\n",
        "b = np.random.random(3)\n",
        "a * b"
      ],
      "metadata": {
        "colab": {
          "base_uri": "https://localhost:8080/"
        },
        "id": "jHDKLE1re47L",
        "outputId": "0af9b651-af17-4062-e8e9-5fe00f4eb226"
      },
      "execution_count": 60,
      "outputs": [
        {
          "output_type": "execute_result",
          "data": {
            "text/plain": [
              "array([[0.03750619, 0.33319878, 0.16452937],\n",
              "       [0.04813597, 0.09566944, 0.28764335]])"
            ]
          },
          "metadata": {},
          "execution_count": 60
        }
      ]
    },
    {
      "cell_type": "markdown",
      "source": [
        "Створіть дві матриці розміром 2x2, заповніть їх випадковими цілими числами в діапазоні від 1 до 10 та виконайте їхнє поелементне множення."
      ],
      "metadata": {
        "id": "11a6RKuujTRG"
      }
    },
    {
      "cell_type": "code",
      "source": [
        "a = np.array(np.random.randint(1, 11, size=(2, 2)), dtype=int)\n",
        "b = np.array(np.random.randint(1, 11, size=(2, 2)), dtype=int)\n",
        "print(a*b)"
      ],
      "metadata": {
        "colab": {
          "base_uri": "https://localhost:8080/"
        },
        "id": "XWJ9nv4Piv7y",
        "outputId": "69f40c6a-5c4c-4ce3-cb8c-e9164c9f4999"
      },
      "execution_count": 62,
      "outputs": [
        {
          "output_type": "stream",
          "name": "stdout",
          "text": [
            "[[ 4 27]\n",
            " [ 4  8]]\n"
          ]
        }
      ]
    },
    {
      "cell_type": "markdown",
      "source": [
        "Створіть дві матриці розміром 2x2, заповніть їх випадковими цілими числами в діапазоні від 1 до 10 та знайдіть їх добуток.\n"
      ],
      "metadata": {
        "id": "a1SCGm63juR6"
      }
    },
    {
      "cell_type": "code",
      "source": [
        "a @ b"
      ],
      "metadata": {
        "colab": {
          "base_uri": "https://localhost:8080/"
        },
        "id": "uFpkbHdRjZ_N",
        "outputId": "c70b3afa-a154-41f0-9f13-c9270358cf26"
      },
      "execution_count": 66,
      "outputs": [
        {
          "output_type": "execute_result",
          "data": {
            "text/plain": [
              "array([[22, 24],\n",
              "       [12, 14]])"
            ]
          },
          "metadata": {},
          "execution_count": 66
        }
      ]
    },
    {
      "cell_type": "code",
      "source": [
        "np.matmul(a, b)"
      ],
      "metadata": {
        "colab": {
          "base_uri": "https://localhost:8080/"
        },
        "id": "nZYZw-kGklx3",
        "outputId": "94f244af-2aff-4d16-fe91-2aa5bb770770"
      },
      "execution_count": 67,
      "outputs": [
        {
          "output_type": "execute_result",
          "data": {
            "text/plain": [
              "array([[22, 24],\n",
              "       [12, 14]])"
            ]
          },
          "metadata": {},
          "execution_count": 67
        }
      ]
    },
    {
      "cell_type": "markdown",
      "source": [
        "Створіть матрицю розміром 5x5, заповніть її випадковими цілими числами в діапазоні від 1 до 100 та знайдіть суму елементів матриці."
      ],
      "metadata": {
        "id": "HyTuglejkpu_"
      }
    },
    {
      "cell_type": "code",
      "source": [
        "a = np.array(np.random.randint(1, 101, size=(5, 5)), dtype=int)\n",
        "np.sum(a)"
      ],
      "metadata": {
        "colab": {
          "base_uri": "https://localhost:8080/"
        },
        "id": "6bPWpP_cksVZ",
        "outputId": "df3e8224-4a66-4742-b99c-e0601e50c032"
      },
      "execution_count": 70,
      "outputs": [
        {
          "output_type": "execute_result",
          "data": {
            "text/plain": [
              "np.int64(1527)"
            ]
          },
          "metadata": {},
          "execution_count": 70
        }
      ]
    },
    {
      "cell_type": "markdown",
      "source": [
        "Створіть дві матриці розміром 4x4, заповніть їх випадковими цілими числами в діапазоні від 1 до 10 та знайдіть їхню різницю."
      ],
      "metadata": {
        "id": "QZamUqr4lJUE"
      }
    },
    {
      "cell_type": "code",
      "source": [
        "p = np.array(np.random.randint(1, 11, size=(4, 4)), dtype=int)\n",
        "o = np.array(np.random.randint(1, 11, size=(4, 4)), dtype=int)\n",
        "p-o"
      ],
      "metadata": {
        "colab": {
          "base_uri": "https://localhost:8080/"
        },
        "id": "VqR-Y4V5lL9W",
        "outputId": "6cfab65e-c1d2-4ecb-ced8-67a1b77d55fc"
      },
      "execution_count": 72,
      "outputs": [
        {
          "output_type": "execute_result",
          "data": {
            "text/plain": [
              "array([[-3, -2, -4,  0],\n",
              "       [ 2, -6,  2,  5],\n",
              "       [ 7,  5, -3, -7],\n",
              "       [ 8, -4, -9,  1]])"
            ]
          },
          "metadata": {},
          "execution_count": 72
        }
      ]
    },
    {
      "cell_type": "markdown",
      "source": [
        "Створіть матрицю розміром 3x3, заповніть її випадковими дійсними числами в діапазоні від 0 до 1 та знайдіть вектор-стовпчик, що містить суму елементів кожного рядка матриці."
      ],
      "metadata": {
        "id": "Cdwl6Zfile3H"
      }
    },
    {
      "cell_type": "code",
      "source": [
        "matrix = np.random.random((3, 3))\n",
        "row_sums = np.sum(matrix, axis=1).reshape(3, 1)\n",
        "row_sums"
      ],
      "metadata": {
        "colab": {
          "base_uri": "https://localhost:8080/"
        },
        "id": "AmVDdL8ulRkq",
        "outputId": "4267ecbb-07f6-49a5-fa97-68ac472ecb66"
      },
      "execution_count": 76,
      "outputs": [
        {
          "output_type": "execute_result",
          "data": {
            "text/plain": [
              "array([[2.73915431],\n",
              "       [2.06035487],\n",
              "       [2.36073124]])"
            ]
          },
          "metadata": {},
          "execution_count": 76
        }
      ]
    },
    {
      "cell_type": "markdown",
      "source": [
        "Створіть матрицю розміром 3x4 з довільними цілими числами і створінь матрицю з квадратами цих чисел."
      ],
      "metadata": {
        "id": "FWVyu0J2mFJP"
      }
    },
    {
      "cell_type": "code",
      "source": [
        "p = np.array(np.random.randint(1, 101, size=(3, 4)), dtype=int)\n",
        "np.square(p)"
      ],
      "metadata": {
        "colab": {
          "base_uri": "https://localhost:8080/"
        },
        "id": "L8_6vAM3mCsR",
        "outputId": "91af3b21-7d55-4491-ed7a-50b61c72fe81"
      },
      "execution_count": 85,
      "outputs": [
        {
          "output_type": "execute_result",
          "data": {
            "text/plain": [
              "array([[3249, 2809,  729,   16],\n",
              "       [ 196, 3249, 5476, 1600],\n",
              "       [1600, 2916, 3249, 8464]])"
            ]
          },
          "metadata": {},
          "execution_count": 85
        }
      ]
    },
    {
      "cell_type": "markdown",
      "source": [
        "Створіть вектор розміром 4, заповніть його випадковими цілими числами в діапазоні від 1 до 50 та знайдіть вектор з квадратними коренями цих чисел."
      ],
      "metadata": {
        "id": "aoMUuZubm6FD"
      }
    },
    {
      "cell_type": "code",
      "source": [
        "b = np.array(np.random.randint(51, size=4), dtype=int)\n",
        "print(b)\n",
        "np.square(b)"
      ],
      "metadata": {
        "colab": {
          "base_uri": "https://localhost:8080/"
        },
        "id": "QH7GwlADm64J",
        "outputId": "b32d61cd-7573-4f6a-fc0b-df125db543df"
      },
      "execution_count": 87,
      "outputs": [
        {
          "output_type": "stream",
          "name": "stdout",
          "text": [
            "[11 49  9  8]\n"
          ]
        },
        {
          "output_type": "execute_result",
          "data": {
            "text/plain": [
              "array([ 121, 2401,   81,   64])"
            ]
          },
          "metadata": {},
          "execution_count": 87
        }
      ]
    },
    {
      "cell_type": "markdown",
      "source": [
        "Доп"
      ],
      "metadata": {
        "id": "dDpHSdRCnUsE"
      }
    },
    {
      "cell_type": "markdown",
      "source": [
        "Замініть усі непарні числа в arr на -1 arr = np.array([0, 1, 2, 3, 4, 5, 6, 7, 8, 9])"
      ],
      "metadata": {
        "id": "MwkT6tzNnXGK"
      }
    },
    {
      "cell_type": "code",
      "source": [
        "arr = np.array([0, 1, 2, 3, 4, 5, 6, 7, 8, 9])\n",
        "mask = arr % 2 != 0\n",
        "arr[mask] = -1\n",
        "arr"
      ],
      "metadata": {
        "colab": {
          "base_uri": "https://localhost:8080/"
        },
        "id": "yexzcbUFnYIL",
        "outputId": "fd3a8ad3-ba30-45c4-b5de-9d75a0166619"
      },
      "execution_count": 91,
      "outputs": [
        {
          "output_type": "execute_result",
          "data": {
            "text/plain": [
              "array([ 0, -1,  2, -1,  4, -1,  6, -1,  8, -1])"
            ]
          },
          "metadata": {},
          "execution_count": 91
        }
      ]
    },
    {
      "cell_type": "markdown",
      "source": [
        "Створіть та перетворіть 1D-масив на 2D-масив із 2 рядками"
      ],
      "metadata": {
        "id": "IQlem7dYpSco"
      }
    },
    {
      "cell_type": "code",
      "source": [
        "arr1D = np.array([1, 2, 3, 4, 5, 6])\n",
        "arr2D = arr1D.reshape(2, 3)\n",
        "arr2D"
      ],
      "metadata": {
        "colab": {
          "base_uri": "https://localhost:8080/"
        },
        "id": "4WsYAhhxnaan",
        "outputId": "cf4bdf39-7c4c-4537-ec4e-5b17f1b90edf"
      },
      "execution_count": 92,
      "outputs": [
        {
          "output_type": "execute_result",
          "data": {
            "text/plain": [
              "array([[1, 2, 3],\n",
              "       [4, 5, 6]])"
            ]
          },
          "metadata": {},
          "execution_count": 92
        }
      ]
    },
    {
      "cell_type": "markdown",
      "source": [
        " Створіть два двовимірні масиви а і b, та складіть масиви їх вертикально"
      ],
      "metadata": {
        "id": "ESTfVktOqhsa"
      }
    },
    {
      "cell_type": "code",
      "source": [
        "arr2D1 = np.array(np.random.randint(1, 101, size=(3, 3)), dtype=int)\n",
        "arr2D2 = np.array(np.random.randint(1, 101, size=(3, 3)), dtype=int)\n",
        "np.vstack((arr2D1, arr2D2))"
      ],
      "metadata": {
        "colab": {
          "base_uri": "https://localhost:8080/"
        },
        "id": "4j9nTBfqqiVI",
        "outputId": "e58aa85c-cce5-470f-e290-ee3941dc9aea"
      },
      "execution_count": 98,
      "outputs": [
        {
          "output_type": "execute_result",
          "data": {
            "text/plain": [
              "array([[22,  6, 52],\n",
              "       [60, 39, 84],\n",
              "       [ 6,  5, 49],\n",
              "       [78, 63, 20],\n",
              "       [56, 71, 33],\n",
              "       [61, 46, 75]])"
            ]
          },
          "metadata": {},
          "execution_count": 98
        }
      ]
    },
    {
      "cell_type": "markdown",
      "source": [
        "Створіть наступний шаблон без жорсткого кодування(Hard coding) . Використовуйте лише функції Numpy і наведений нижче масив введення Input:a = np.array([1,2,3])\n",
        "\n",
        "Output:array([1, 1, 1, 2, 2, 2, 3, 3, 3, 1, 2, 3, 1, 2, 3, 1, 2, 3])"
      ],
      "metadata": {
        "id": "tFK5k79iryjL"
      }
    },
    {
      "cell_type": "code",
      "source": [
        "a = np.array([1,2,3])\n",
        "aStak =  np.concatenate((a, a, a))\n",
        "aSort = np.sort(aStak.copy())\n",
        "np.concatenate((aSort, aStak))"
      ],
      "metadata": {
        "colab": {
          "base_uri": "https://localhost:8080/"
        },
        "id": "yt60BQEiq_Tu",
        "outputId": "3764b847-9565-4831-eff4-6d88b4cadbea"
      },
      "execution_count": 111,
      "outputs": [
        {
          "output_type": "execute_result",
          "data": {
            "text/plain": [
              "array([1, 1, 1, 2, 2, 2, 3, 3, 3, 1, 2, 3, 1, 2, 3, 1, 2, 3])"
            ]
          },
          "metadata": {},
          "execution_count": 111
        }
      ]
    },
    {
      "cell_type": "markdown",
      "source": [
        "Отримайте спільні елементи між a і b\n",
        "\n",
        "a = np.array([1,2,3,2,3,4,3,4,5,6]) b = np.array([7,2,10,2,7,4,9,4,9,8])"
      ],
      "metadata": {
        "id": "pZWE9Ck_t_Rj"
      }
    },
    {
      "cell_type": "code",
      "source": [
        "a = np.array([1,2,3,2,3,4,3,4,5,6])\n",
        "b = np.array([7,2,10,2,7,4,9,4,9,8])\n",
        "np.intersect1d(a, b)"
      ],
      "metadata": {
        "colab": {
          "base_uri": "https://localhost:8080/"
        },
        "id": "G_HMJrk3r8Sp",
        "outputId": "c907ce21-9043-4d2e-ee41-b07d5523cb9b"
      },
      "execution_count": 113,
      "outputs": [
        {
          "output_type": "execute_result",
          "data": {
            "text/plain": [
              "array([2, 4])"
            ]
          },
          "metadata": {},
          "execution_count": 113
        }
      ]
    },
    {
      "cell_type": "markdown",
      "source": [
        " Отримайте позиції перших 5 максимальних значень у заданому масиві a\n",
        "\n",
        "np.random.seed(100) a = np.random.uniform(1,50, 20)"
      ],
      "metadata": {
        "id": "Vftr767KuquH"
      }
    },
    {
      "cell_type": "code",
      "source": [
        "a = np.random.uniform(1,50, 20)\n",
        "sorted_indices = np.argsort(a)\n",
        "sorted_indices[-5:]\n"
      ],
      "metadata": {
        "colab": {
          "base_uri": "https://localhost:8080/"
        },
        "id": "CBf09YWrurZx",
        "outputId": "bcb47414-6c09-4256-e5b6-0eeb137a4564"
      },
      "execution_count": 131,
      "outputs": [
        {
          "output_type": "execute_result",
          "data": {
            "text/plain": [
              "array([ 9,  4,  3, 13, 10])"
            ]
          },
          "metadata": {},
          "execution_count": 131
        }
      ]
    },
    {
      "cell_type": "markdown",
      "source": [
        " Вилучіть усі значення NaN із одновимірного масиву\n",
        "\n",
        "а=np.array([1,2,3,np.nan,5,6,7,np.nan])"
      ],
      "metadata": {
        "id": "mUaW9cRvur4H"
      }
    },
    {
      "cell_type": "code",
      "source": [
        "a = np.array([1, 2, 3, np.nan, 5, 6, 7, np.nan])\n",
        "a_clean = a[~np.isnan(a)]\n",
        "a_clean"
      ],
      "metadata": {
        "colab": {
          "base_uri": "https://localhost:8080/"
        },
        "id": "1tmrRvskutX6",
        "outputId": "22d45204-1d14-4f42-ecc2-5f646d31925d"
      },
      "execution_count": 139,
      "outputs": [
        {
          "output_type": "execute_result",
          "data": {
            "text/plain": [
              "array([1., 2., 3., 5., 6., 7.])"
            ]
          },
          "metadata": {},
          "execution_count": 139
        }
      ]
    },
    {
      "cell_type": "markdown",
      "source": [
        " Обчисліть евклідову відстань між двома масивами a і b.\n",
        "\n",
        "a = np.array([1,2,3,4,5]) b = np.array([4,5,6,7,8])"
      ],
      "metadata": {
        "id": "127P9X7Tuup6"
      }
    },
    {
      "cell_type": "code",
      "source": [
        "a = np.array([1,2,3,4,5])\n",
        "b = np.array([4,5,6,7,8])\n",
        "distance = np.linalg.norm(a - b)\n",
        "distance"
      ],
      "metadata": {
        "colab": {
          "base_uri": "https://localhost:8080/"
        },
        "id": "0EcSWnQruvTc",
        "outputId": "b2a993a2-c227-4e21-a4ba-ef93fbfc62a2"
      },
      "execution_count": 141,
      "outputs": [
        {
          "output_type": "execute_result",
          "data": {
            "text/plain": [
              "np.float64(6.708203932499369)"
            ]
          },
          "metadata": {},
          "execution_count": 141
        }
      ]
    },
    {
      "cell_type": "markdown",
      "source": [
        " Знайдіть індекс 5-го повторення числа 1 у масиві x\n",
        "\n",
        "x = np.array([1, 2, 1, 1, 3, 4, 3, 1, 1, 2, 1, 1, 2])"
      ],
      "metadata": {
        "id": "UIk_rzL4uwW6"
      }
    },
    {
      "cell_type": "code",
      "source": [
        "x = np.array([1, 2, 1, 1, 3, 4, 3, 1, 1, 2, 1, 1, 2])\n",
        "indices = np.where(x == 1)[0]\n",
        "indices[4]"
      ],
      "metadata": {
        "colab": {
          "base_uri": "https://localhost:8080/"
        },
        "id": "kmJsRYkoux8p",
        "outputId": "aacbc3c1-0f14-4415-d259-42ee4c4a67a3"
      },
      "execution_count": 144,
      "outputs": [
        {
          "output_type": "execute_result",
          "data": {
            "text/plain": [
              "np.int64(8)"
            ]
          },
          "metadata": {},
          "execution_count": 144
        }
      ]
    },
    {
      "cell_type": "markdown",
      "source": [
        "10. Знайдіть повторювані записи (від 2-го випадку повторення і далі) у заданому масиві і позначте їх як True. Перше повторення має бути False.\n",
        "\n",
        "# Input np.random.seed(100) a = np.random.randint(0, 5, 10)\n",
        "\n",
        "[0 0 3 0 2 4 2 2 2 2] #Output [False True False True False False True True True True]"
      ],
      "metadata": {
        "id": "FFNFDjHyuyOI"
      }
    },
    {
      "cell_type": "code",
      "source": [
        "np.random.seed(100)\n",
        "a = np.random.randint(0, 5, 10)\n",
        "\n",
        "seen = {}\n",
        "output = np.zeros(len(a), dtype=bool)\n",
        "\n",
        "for i, val in enumerate(a):\n",
        "    if val in seen:\n",
        "        output[i] = True\n",
        "    else:\n",
        "        seen[val] = True\n",
        "\n",
        "output"
      ],
      "metadata": {
        "colab": {
          "base_uri": "https://localhost:8080/"
        },
        "id": "N05dDHNVuzt5",
        "outputId": "06cf20c3-f601-4462-c59e-bf9011474eb7"
      },
      "execution_count": 155,
      "outputs": [
        {
          "output_type": "execute_result",
          "data": {
            "text/plain": [
              "array([False,  True, False,  True, False, False,  True,  True,  True,\n",
              "        True])"
            ]
          },
          "metadata": {},
          "execution_count": 155
        }
      ]
    },
    {
      "cell_type": "code",
      "source": [],
      "metadata": {
        "id": "vb_Xlslqz32M"
      },
      "execution_count": null,
      "outputs": []
    }
  ]
}